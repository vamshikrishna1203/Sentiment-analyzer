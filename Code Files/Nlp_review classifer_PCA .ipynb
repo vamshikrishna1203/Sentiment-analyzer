{
 "cells": [
  {
   "cell_type": "code",
   "execution_count": 71,
   "metadata": {},
   "outputs": [],
   "source": [
    "import numpy as np\n",
    "import pandas as pd\n"
   ]
  },
  {
   "cell_type": "code",
   "execution_count": 72,
   "metadata": {
    "scrolled": true
   },
   "outputs": [
    {
     "name": "stdout",
     "output_type": "stream",
     "text": [
      "                                                Review  Liked\n",
      "0                             Wow... Loved this place.      1\n",
      "1                                   Crust is not good.      0\n",
      "2            Not tasty and the texture was just nasty.      0\n",
      "3    Stopped by during the late May bank holiday of...      1\n",
      "4    The selection on the menu was great and so wer...      1\n",
      "..                                                 ...    ...\n",
      "995  I think food should have flavor and texture an...      0\n",
      "996                           Appetite instantly gone.      0\n",
      "997  Overall I was not impressed and would not go b...      0\n",
      "998  The whole experience was underwhelming, and I ...      0\n",
      "999  Then, as if I hadn't wasted enough of my life ...      0\n",
      "\n",
      "[1000 rows x 2 columns]\n"
     ]
    }
   ],
   "source": [
    "df = pd.read_csv('Nlp.tsv', delimiter='\\t', quoting=3)\n",
    "print(df)"
   ]
  },
  {
   "cell_type": "markdown",
   "metadata": {},
   "source": [
    "## Refining the data"
   ]
  },
  {
   "cell_type": "code",
   "execution_count": 73,
   "metadata": {},
   "outputs": [
    {
     "name": "stderr",
     "output_type": "stream",
     "text": [
      "[nltk_data] Downloading package stopwords to C:\\Users\\vaishnavi\n",
      "[nltk_data]     m\\AppData\\Roaming\\nltk_data...\n",
      "[nltk_data]   Package stopwords is already up-to-date!\n"
     ]
    }
   ],
   "source": [
    "import re\n",
    "import nltk\n",
    "nltk.download('stopwords')\n",
    "#nltk.download('wordnet')\n",
    "from nltk.corpus import stopwords\n",
    "from nltk.stem.porter import PorterStemmer\n",
    "from nltk.stem import WordNetLemmatizer\n",
    "corpus = [] # list will contain all the refined reviews"
   ]
  },
  {
   "cell_type": "code",
   "execution_count": 74,
   "metadata": {},
   "outputs": [],
   "source": [
    "for i in range(0,1000):\n",
    "    review = df['Review'][i] # Collecting the reviews one by one\n",
    "    review = re.sub('[^a-zA-z]', ' ', review) # replacing the punctuations with space\n",
    "    review = review.lower() # converting all the characters into lower case\n",
    "    review = review.split() # splitting word of the statement i.e converting a statement into list of words\n",
    "    ps = PorterStemmer() # creating the object of the porter stemmer class\n",
    "   # lemmatizer = WordNetLemmatizer()\n",
    "    all_stopwords = stopwords.words('english') # collecting the english language stop words\n",
    "    arr=['not','no',\"shouldn't\",'wasn','weren','won','didn']\n",
    "    for i in arr:\n",
    "        all_stopwords.remove(i)\n",
    "    arr2=['order','waited',\"bland\",'still','place','feel','buffet']\n",
    "    for i in arr2:\n",
    "        all_stopwords.append(i)\n",
    "    #all_stopwords.append('bar')\n",
    "    #all_stopwords.append('20')\n",
    "    #all_stopwords.append('disappoint')\n",
    "    #review=[lemmatizer.lemmatize(word) for word in review if not word in set(all_stopwords)]\n",
    "    review =[ps.stem(word) for word in review if not word in set(all_stopwords)]\n",
    "    # coverting the list of words back to statement\n",
    "    # for this we will use the join function\n",
    "    review = ' '.join(review)\n",
    "    corpus.append(review) # collecting the refined reviews"
   ]
  },
  {
   "cell_type": "code",
   "execution_count": 75,
   "metadata": {},
   "outputs": [
    {
     "name": "stdout",
     "output_type": "stream",
     "text": [
      "['wow love', 'crust not good', 'not tasti textur nasti', 'stop late may bank holiday rick steve recommend love', 'select menu great price', 'get angri want damn pho', 'honeslti didn tast fresh', 'potato like rubber could tell made ahead time kept warmer', 'fri great', 'great touch', 'servic prompt', 'would not go back', 'cashier no care ever say end wayyy overpr', 'tri cape cod ravoli chicken cranberri mmmm', 'disgust pretti sure human hair', 'shock no sign indic cash', 'highli recommend', 'waitress littl slow servic', 'not worth time let alon vega', 'not like', 'burritto blah', 'food amaz', 'servic also cute', 'could care less interior beauti', 'perform', 'right red velvet cake ohhh stuff good', 'never brought salad ask', 'hole wall great mexican street taco friendli staff', 'took hour get food tabl restaur food luke warm sever run around like total overwhelm', 'worst salmon sashimi', 'also combo like burger fri beer decent deal', 'like final blow', 'found accid could not happier', 'seem like good quick grab bite familiar pub food favor look elsewher', 'overal like lot', 'redeem qualiti restaur inexpens', 'ampl portion good price', 'poor servic waiter made like stupid everi time came tabl', 'first visit hiro delight', 'servic suck', 'shrimp tender moist', 'not deal good enough would drag establish', 'hard judg whether side good gross melt styrofoam didn want eat fear get sick', 'posit note server attent provid great servic', 'frozen puck disgust worst peopl behind regist', 'thing like prime rib dessert section', 'bad food damn gener', 'burger good beef cook right', 'want sandwich go firehous', 'side greek salad greek dress tasti pita hummu refresh', 'order duck rare pink tender insid nice char outsid', 'came run us realiz husband left sunglass tabl', 'chow mein good', 'horribl attitud toward custom talk one custom enjoy food', 'portion huge', 'love friendli server great food wonder imagin menu', 'heart attack grill downtown vega absolut flat line excus restaur', 'not much seafood like string pasta bottom', 'salad right amount sauc not power scallop perfectli cook', 'rip banana not rip petrifi tasteless', 'least think refil water struggl wave minut', 'receiv star appet', 'cocktail handmad delici', 'definit go back', 'glad found', 'great food servic huge portion give militari discount', 'alway great time do gringo', 'updat went back second time amaz', 'got food appar never heard salt batter fish chewi', 'great way finish great', 'deal includ tast drink jeff went beyond expect', 'realli realli good rice time', 'servic meh', 'took min get milkshak noth chocol milk', 'guess known would suck insid excalibur didn use common sens', 'scallop dish quit appal valu well', 'time bad custom servic', 'sweet potato fri good season well', 'today second time lunch pretti good', 'much good food vega cheat wast eat opportun go rice compani', 'come like experienc underwhelm relationship parti wait person ask break', 'walk smell like old greas trap other eat', 'turkey roast beef', '', 'pan cake everyon rave tast like sugari disast tailor palat six year old', 'love pho spring roll oh yummi tri', 'poor batter meat ratio made chicken tender unsatisfi', 'say food amaz', 'omelet die', 'everyth fresh delici', 'summari larg disappoint dine experi', 'like realli sexi parti mouth outrag flirt hottest person parti', 'never hard rock casino never ever step forward', 'best breakfast', 'say bye bye tip ladi', 'never go', 'back', 'food arriv quickli', 'not good', 'side cafe serv realli good food', 'server fantast found wife love roast garlic bone marrow ad extra meal anoth marrow go', 'good thing waiter help kept bloddi mari come', 'best town price cannot beat', 'love mussel cook wine reduct duck tender potato dish delici', 'one better buffet', 'went tigerlilli fantast afternoon', 'food delici bartend attent person got great deal', 'ambienc wonder music play', 'go back next trip', 'sooooo good', 'real sushi lover let honest yama not good', 'least min pass us order food arriv wasn busi', 'realli fantast thai restaur definit worth visit', 'nice spici tender', 'good price', 'check', 'pretti gross', 'better atmospher', 'kind hard mess steak', 'although much like look sound actual experi bit disappoint', 'know manag serv blandest food ever eaten prepar indian cuisin', 'worst servic boot least worri', 'servic fine waitress friendli', 'guy steak steak love son steak best worst place said best steak ever eaten', 'thought ventur away get good sushi realli hit spot night', 'host staff lack better word bitch', 'not like number reason want wast time bad review leav', 'phenomen food servic ambianc', 'return', 'definit worth ventur strip pork belli return next time vega', 'way overpr mediocr food', 'penn vodka excel', 'good select food includ massiv meatloaf sandwich crispi chicken wrap delish tuna melt tasti burger', 'manag rude', 'delici nyc bagel good select cream chees real lox caper even', 'great subway fact good come everi subway not meet expect', 'serious solid breakfast', 'one best bar food vega', 'extrem rude realli mani restaur would love dine weekend vega', 'drink never empti made realli great menu suggest', '', 'waiter wasn help friendli rare check us', 'husband ate lunch disappoint food servic', 'red curri much bamboo shoot wasn tasti', 'nice blanket moz top like done cover subpar food', 'bathroom clean well decor', 'menu alway chang food qualiti go servic extrem slow', 'servic littl slow consid serv peopl server food come slow pace', 'give thumb', 'watch waiter pay lot attent tabl ignor us', 'fianc came middl day greet seat right away', 'great restaur mandalay bay', 'forti five minut vain', 'crostini came salad stale', 'highlight great qualiti nigiri', 'staff friendli joint alway clean', 'differ cut piec day wonder tender well well flavor', 'order voodoo pasta first time realli excel pasta sinc go gluten free sever year ago', 'good', 'unfortun must hit bakeri leftov day everyth order stale', 'came back today sinc reloc not impress', 'seat immedi', 'menu divers reason price', 'avoid cost', 'restaur alway full never wait', 'delici', 'hand one best place eat phoenix metro area', 'go look good food', 'never treat bad', 'bacon hella salti', 'also order spinach avocado salad ingredi sad dress liter zero tast', 'realli vega fine dine use right menu hand ladi no price list', 'waitress friendli', 'lordi khao soi dish not miss curri lover', 'everyth menu terrif also thrill made amaz accommod vegetarian daughter', 'perhap caught night judg review not inspir go back', 'servic leav lot desir', 'atmospher modern hip maintain touch cozi', 'not weekli haunt definit come back everi', 'liter sat minut no one ask take', 'burger absolut no flavor meat total burger overcook no charcoal flavor', 'also decid not send back waitress look like verg heart attack', 'dress treat rude', 'probabl dirt', 'love hit spot want someth healthi not lack quantiti flavor', 'order lemon raspberri ice cocktail also incred', 'food suck expect suck could imagin', 'interest decor', 'realli like crepe station', 'also serv hot bread butter home made potato chip bacon bit top origin good', 'watch prepar delici food', 'egg roll fantast', 'arriv one gyro miss', 'salad wing ice cream dessert left feel quit satisfi', 'not realli sure joey vote best hot dog valley reader phoenix magazin', 'best go tasti bowl pho', 'live music friday total blow', 'never insult felt disrespect', 'friendli staff', 'worth drive', 'heard good thing exceed everi hope could dream', 'food great serivc', 'warm beer didn help', 'great brunch spot', 'servic friendli invit', 'good lunch spot', 'live sinc first last time step foot', 'worst experi ever', 'must night', 'side delish mix mushroom yukon gold pure white corn beateou', 'bug never show would given sure side wall bug climb kitchen', 'minut wait salad realiz wasn come time soon', 'friend love salmon tartar', 'won go back', 'extrem tasti', 'waitress good though', 'soggi not good', 'jamaican mojito delici', 'small not worth price', 'food rich accordingli', 'shower area outsid rins not take full shower unless mind nude everyon see', 'servic bit lack', 'lobster bisqu bussel sprout risotto filet need salt pepper cours none tabl', 'hope bode go busi someon cook come', 'either cold not enough flavor bad', 'love bacon wrap date', 'unbeliev bargain', 'folk otto alway make us welcom special', 'main also uninspir', 'first pho amaz', 'wonder experi made must stop whenev town', 'food bad enough enjoy deal world worst annoy drunk peopl', 'fun chef', 'order doubl cheeseburg got singl patti fall apart pictur upload yeah suck', 'great coupl drink watch sport event wall cover tv', 'possibl give zero star', 'descript said yum yum sauc anoth said eel sauc yet anoth said spici mayo well none roll sauc', 'say would hardest decis honestli dish tast suppos tast amaz', 'not roll eye may stay not sure go back tri', 'everyon attent provid excel custom servic', 'horribl wast time money', 'dish quit flavour', 'time side restaur almost empti no excus', 'wasn busi either also build freez cold', 'like review said pay eat', 'drink took close minut come one point', 'serious flavor delight folk', 'much better ayc sushi went vega', 'light dark enough set mood', 'base sub par servic receiv no effort show gratitud busi won go back', 'owner realli great peopl', 'noth privileg work eat', 'greek dress creami flavor', 'overal think would take parent made similar complaint silent felt', 'pizza good peanut sauc tasti', 'tabl servic pretti fast', 'fantast servic', 'well would given godfath zero star possibl', 'know make', 'tough short flavor', 'hope stick around', 'bar vega not ever recal charg tap water', 'restaur atmospher exquisit', 'good servic clean inexpens boot', 'seafood fresh gener portion', 'plu buck', 'servic not par either', 'thu far visit twice food absolut delici time', 'good year ago', 'self proclaim coffe cafe wildli disappoint', 'veggitarian platter world', 'cant go wrong food', 'beat', 'stop madison ironman friendli kind staff', 'chef friendli good job', 'better not dedic boba tea spot even jenni pho', 'like patio servic outstand', 'goat taco didn skimp meat wow flavor', 'think not', 'mac salad pretti not get', 'went bachi burger friend recommend not disappoint', 'servic stink', '', 'not qualiti sushi not qualiti restaur', 'would definit recommend wing well pizza', 'great pizza salad', 'thing went wrong burn saganaki', 'hour breakfast could done time better home', 'amaz', 'hate disagre fellow yelper husband disappoint', 'hour never got either pizza mani around us came later', 'know slow', 'staff great food delish incred beer select', 'live neighborhood disappoint won back conveni locat', 'didn know pull pork could soooo delici', 'get incred fresh fish prepar care', 'go gave star rate pleas know third time eat bachi burger write review', 'love fact everyth menu worth', 'never dine', 'food excel servic good', 'good beer drink select good food select', 'pleas stay away shrimp stir fri noodl', 'potato chip sad could probabl count mani chip box probabl around', 'food realli bore', 'good servic check', 'greedi corpor never see anoth dime', 'never ever go back', 'much like go back get pass atroci servic never return', 'summer dine charm outdoor patio delight', 'not expect good', 'fantast food', 'order toast english muffin came untoast', 'food good', 'never go back', 'great food price high qualiti hous made', 'bu boy hand rude', 'point friend basic figur joke didn mind make publicli loudli known', 'back good bbq lighter fare reason price tell public back old way', 'consid two us left full happi go wrong', 'bread made hous', 'downsid servic', 'also fri without doubt worst fri ever', 'servic except food good review', 'coupl month later return amaz meal', 'favorit town shawarrrrrrma', 'black eye pea sweet potato unreal', 'won disappoint', 'could serv vinaigrett may make better overal dish good', 'go far mani place never seen restaur serv egg breakfast especi', 'mom got home immedi got sick bite salad', 'server not pleasant deal alway honor pizza hut coupon', 'truli unbeliev good glad went back', 'fantast servic pleas atmospher', 'everyth gross', 'love', 'great servic food', 'first bathroom locat dirti seat cover not replenish plain yucki', 'burger got gold standard burger kind disappoint', 'omg food delicioso', 'noth authent', 'spaghetti noth special whatsoev', 'dish salmon best great', 'veget fresh sauc feel like authent thai', 'worth drive tucson', 'select probabl worst seen vega none', 'pretti good beer select', 'like chipotl better', 'classi warm atmospher fun fresh appet succul steak basebal steak', 'star brick oven bread app', 'eaten multipl time time food delici', 'sat anoth ten minut final gave left', 'terribl', 'everyon treat equal special', 'take min pancak egg', 'delici', 'good side staff genuin pleasant enthusiast real treat', 'sadli gordon ramsey steak shall sharpli avoid next trip vega', 'alway even wonder food delici', 'best fish ever life', 'bathroom next door nice', 'small food offer', 'outstand littl restaur best food ever tast', 'pretti cool would say', 'definit turn doubt back unless someon els buy', 'server great job handl larg rowdi tabl', 'find wast food despic wasn food', 'wife lobster bisqu soup lukewarm', 'would come back sushi crave vega', 'staff great ambianc great', 'deserv star', 'left stomach ach felt sick rest day', 'drop ball', 'dine space tini elegantli decor comfort', 'custom way like usual eggplant green bean stir fri love', 'bean rice mediocr best', 'best taco town far', 'took back money got outta', 'interest part town amaz', 'rude inconsider manag', 'staff not friendli wait time serv horribl no one even say hi first minut', 'won back', 'great dinner', 'servic outshin definit recommend halibut', 'food terribl', 'never ever go back told mani peopl happen', 'recommend unless car break front starv', 'come back everi time vega', 'deserv one star food', 'disgrac', 'def come back bowl next time', 'want healthi authent ethic food tri', 'continu come ladi night andddd date night highli recommend anyon area', 'sever time past experi alway great', 'walk away stuf happi first vega experi', 'servic excel price pretti reason consid vega locat insid crystal shop mall aria', 'summar food incred nay transcend noth bring joy quit like memori pneumat condiment dispens', 'probabl one peopl ever go ian not like', 'kid pizza alway hit lot great side dish option kiddo', 'servic perfect famili atmospher nice see', 'cook perfect servic impecc', 'one simpli disappoint', 'overal disappoint qualiti food bouchon', 'account know get screw', 'great eat remind littl mom pop shop san francisco bay area', 'today first tast buldogi gourmet hot dog tell ever thought possibl', 'left frustrat', 'definit soon', 'food realli good got full petti fast', 'servic fantast', 'total wast time', 'know kind best ice tea', 'come hungri leav happi stuf', 'servic give no star', 'assur won disappoint', 'take littl bad servic food suck', 'gave tri eat crust teeth sore', 'complet gross', 'realli enjoy eat', 'first time go think quickli becom regular', 'server nice even though look littl overwhelm need stay profession friendli end', 'dinner companion told everyth fresh nice textur tast', 'ground right next tabl larg smear step track everywher pile green bird poop', 'furthermor even find hour oper websit', 'tri like time think done', 'mistak', 'no complaint', 'serious good pizza expert connisseur topic', 'waiter jerk', 'strike want rush', 'nicest restaur owner ever come across', 'never come', 'love biscuit', 'servic quick friendli', 'order appet took minut pizza anoth minut', 'absolutley fantast', 'huge awkward lb piec cow th gristl fat', 'definit come back', 'like steiner dark feel like bar', 'wow spici delici', 'not familiar check', 'take busi dinner dollar elsewher', 'love go back', 'anyway fs restaur wonder breakfast lunch', 'noth special', 'day week differ deal delici', 'not mention combin pear almond bacon big winner', 'not back', 'sauc tasteless', 'food delici spici enough sure ask spicier prefer way', 'ribey steak cook perfectli great mesquit flavor', 'think go back anytim soon', 'food gooodd', 'far sushi connoisseur definit tell differ good food bad food certainli bad food', 'insult', 'last time lunch bad', 'chicken wing contain driest chicken meat ever eaten', 'food good enjoy everi mouth enjoy relax venu coupl small famili group etc', 'nargil think great', 'best tater tot southwest', 'love', 'definit not worth paid', 'vanilla ice cream creami smooth profiterol choux pastri fresh enough', 'im az time new spot', 'manag worst', 'insid realli quit nice clean', 'food outstand price reason', 'think run back carli anytim soon food', 'due fact took minut acknowledg anoth minut get food kept forget thing', 'love margarita', 'first vega not disappoint', 'good though', 'one note ventil could use upgrad', 'great pork sandwich', 'wast time', 'total letdown would much rather go camelback flower shop cartel coffe', 'third chees friend burger cold', 'enjoy pizza brunch', 'steak well trim also perfectli cook', 'group claim would handl us beauti', 'love', 'ask bill leav without eat didn bring either', 'jewel la vega exactli hope find nearli ten year live', 'seafood limit boil shrimp crab leg crab leg definit not tast fresh', 'select food not best', 'delici absolut back', 'small famili restaur fine dine establish', 'toro tartar cavier extraordinari like thinli slice wagyu white truffl', 'dont think back long time', 'attach ga station rare good sign', 'awesom', 'back mani time soon', 'menu much good stuff could not decid', 'wors humili worker right front bunch horribl name call', 'conclus fill meal', 'daili special alway hit group', 'tragedi struck', 'pancak also realli good pretti larg', 'first crawfish experi delici', 'monster chicken fri steak egg time favorit', 'waitress sweet funni', 'also tast mom multi grain pumpkin pancak pecan butter amaz fluffi delici', 'rather eat airlin food serious', 'cant say enough good thing', 'ambianc incred', 'waitress manag friendli', 'would not recommend', 'overal wasn impress noca', 'gyro basic lettuc', 'terribl servic', 'thoroughli disappoint', 'much pasta love homemad hand made pasta thin pizza', 'give tri happi', 'far best cheesecurd ever', 'reason price also', 'everyth perfect night', 'food good typic bar food', 'drive get', 'first glanc love bakeri cafe nice ambianc clean friendli staff', 'anyway not think go back', 'point finger item menu won disappoint', 'oh thing beauti restaur', 'gone go', 'greasi unhealthi meal', 'first time might last', 'burger amaz', 'similarli deliveri man not say word apolog food minut late', 'way expens', 'sure dessert even need pack go tiramisu cannoli die', 'first time wait next', 'bartend also nice', 'everyth good tasti', 'two thumb way', 'best vega breakfast check sat sun', 'love authent mexican food want whole bunch interest yet delici meat choos need tri', 'terribl manag', 'excel new restaur experienc frenchman', 'zero star would give zero star', 'great steak great side great wine amaz dessert', 'worst martini ever', 'steak shrimp opinion best entre gc', 'opportun today sampl amaz pizza', 'thirti minut seat although vacant tabl folk wait', 'yellowtail carpaccio melt mouth fresh', 'won tri go back even empti', 'no go eat potato found stranger hair', 'spici enough perfect actual', 'last night second time dine happi decid go back', 'not even hello right', 'dessert bit strang', 'boyfriend came first time recent trip vega could not pleas qualiti food servic', 'realli recommend go wrong donut', 'nice ambianc', 'would recommend save room', 'guess mayb went night disgrac', 'howev recent experi particular locat not good', 'know not like restaur someth', 'avoid establish', 'think restaur suffer not tri hard enough', 'tapa dish delici', 'heart', 'salad vinegrett babi green heart palm', 'two felt disgust', 'good time', 'believ great stop huge belli hanker sushi', 'gener portion great tast', 'never go back never ever recommend anyon', 'server went back forth sever time not even much help', 'food delici', 'hour serious', 'consid theft', 'eew locat need complet overhaul', 'recent wit poor qualiti manag toward guest well', '', 'also came back check us regularli excel servic', 'server super nice check us mani time', 'pizza tast old super chewi not good way', 'swung give tri deepli disappoint', 'servic good compani better', 'staff also friendli effici', 'servic fan quick serv nice folk', 'boy sucker dri', 'rate', 'look authent thai food go els', 'steak recommend', 'pull car anoth minut acknowledg', 'great food great servic clean friendli set', 'assur back', 'hate thing much cheap qualiti black oliv', 'breakfast perpar great beauti present giant slice toast lightli dust powder sugar', 'kid play area nasti', 'great fo take eat', 'waitress friendli happi accomod vegan veggi option', 'omg felt like never eaten thai food dish', 'extrem crumbi pretti tasteless', 'pale color instead nice char no flavor', 'crouton also tast homemad extra plu', 'got home see driest damn wing ever', 'regular stop trip phoenix', 'realli enjoy crema caf expand even told friend best breakfast', 'not good money', 'miss wish one philadelphia', 'got sit fairli fast end wait minut anoth minut food arriv', 'also best chees crisp town', 'good valu great food great servic', 'ask satisfi meal', 'food good', 'awesom', 'want leav', 'made drive way north scottsdal not one bit disappoint', 'not eat', 'owner realli realli need quit soooooo cheap let wrap freak sandwich two paper not one', 'check coupl year ago not impress', 'chicken got definit reheat ok wedg cold soggi', 'sorri not get food anytim soon', 'absolut must visit', 'cow tongu cheek taco amaz', 'friend not like bloodi mari', 'despit hard rate busi actual rare give star', 'realli want make experi good one', 'not return', 'chicken pho tast', 'disappoint', 'grill chicken tender yellow saffron season', 'drive thru mean not want wait around half hour food somehow end go make us wait wait', 'pretti awesom', 'ambienc perfect', 'best luck rude non custom servic focus new manag', 'grandmoth make roast chicken better one', 'ask multipl time wine list time ignor went hostess got one', 'staff alway super friendli help especi cool bring two small boy babi', 'four star food guy blue shirt great vibe let us eat', 'roast beef sandwich tast realli good', 'even drastic sick', 'high qualiti chicken chicken caesar salad', 'order burger rare came done', 'promptli greet seat', 'tri go lunch madhous', 'proven dead wrong sushi bar not qualiti great servic fast food impecc', 'wait hour seat not greatest mood', 'good joint', 'macaron insan good', 'not eat', 'waiter attent friendli inform', 'mayb weren cold would somewhat edibl', 'lot promis fail deliv', 'bad experi', 'mistak', 'food averag best', 'great food', 'won go back anytim soon', 'disappoint order big bay plater', 'great relax awesom burger beer', 'perfect sit famili meal get togeth friend', 'not much flavor poorli construct', 'patio seat comfort', 'fri rice dri well', 'hand favorit italian restaur', 'scream legit book somethat also pretti rare vega', 'not fun experi', 'atmospher great love duo violinist play song request', 'person love hummu pita baklava falafel baba ganoush amaz eggplant', 'conveni sinc stay mgm', 'owner super friendli staff courteou', 'great', 'eclect select', 'sweet potato tot good onion ring perfect close', 'staff attent', 'chef gener time even came around twice take pictur', 'owner use work nobu realli similar half price', 'googl mediocr imagin smashburg pop', 'dont go', 'promis won disappoint', 'sushi lover avoid mean', 'great doubl cheeseburg', 'awesom servic food', 'fantast neighborhood gem', 'wait go back', 'plantain worst ever tast', 'great highli recommend', 'servic slow not attent', 'gave star give star', 'staff spend time talk', 'dessert panna cotta amaz', 'good food great atmospher', 'damn good steak', 'total brunch fail', 'price reason flavor spot sauc home made slaw not drench mayo', 'decor nice piano music soundtrack pleasant', 'steak amaz rge fillet relleno best seafood plate ever', 'good food good servic', 'absolut amaz', 'probabl won back honest', 'definit back', 'sergeant pepper beef sandwich auju sauc excel sandwich well', 'hawaiian breez mango magic pineappl delight smoothi tri far good', 'went lunch servic slow', 'much say walk expect amaz quickli disappoint', 'mortifi', 'needless say never back', 'anyway food definit not fill price pay expect', 'chip came drip greas mostli not edibl', 'wasn realli impress strip steak', 'go sinc everi meal awesom', 'server nice attent serv staff', 'cashier friendli even brought food', 'work hospit industri paradis valley refrain recommend cibo longer', 'atmospher fun', 'would not recommend other', 'servic quick even go order like like', 'mean realli get famou fish chip terribl', 'said mouth belli quit pleas', 'not thing', 'thumb', 'read pleas go', 'love grill pizza remind legit italian pizza', 'pro larg seat area nice bar area great simpl drink menu best brick oven pizza homemad dough', 'realli nice atmospher', 'tonight elk filet special suck', 'one bite hook', 'order old classic new dish go time sore disappoint everyth', 'cute quaint simpl honest', 'chicken delici season perfect fri outsid moist chicken insid', 'food great alway compliment chef', 'special thank dylan recommend yummi tummi', 'awesom select beer', 'great food awesom servic', 'one nice thing ad gratuiti bill sinc parti larger didn expect tip', 'fli appl juic fli', 'han nan chicken also tasti', 'servic thought good', 'food bare lukewarm must sit wait server bring us', 'ryan bar definit one edinburgh establish won revisit', 'nicest chines restaur', 'overal like food servic', 'also serv indian naan bread hummu spici pine nut sauc world', 'probabl never come back recommend', 'friend pasta also bad bare touch', 'tri airport experi tasti food speedi friendli servic', 'love decor chines calligraphi wall paper', 'never anyth complain', 'restaur clean famili restaur', 'way fri', 'not sure long stood long enough begin awkwardli', 'open sandwich impress not good way', 'not back', 'warm feel servic felt like guest special treat', 'extens menu provid lot option breakfast', 'alway vegetarian menu dinner wide array option choos', 'watch price inflat portion get smaller manag attitud grow rapidli', 'wonder lil tapa ambienc made warm fuzzi insid', 'got enjoy seafood salad fabul vinegrett', 'wonton thin not thick chewi almost melt mouth', 'level spici perfect spice didn whelm soup', 'sat right time server get go fantast', 'main thing didn enjoy crowd older crowd around mid', 'side town definit spot hit', 'wait minut get drink longer get arepa', 'great eat', 'jalapeno bacon soooo good', 'servic poor that nice', 'food good servic good price good', 'not clean food oh stale', 'chicken dish ok beef like shoe leather', 'servic beyond bad', 'happi', 'tast like dirt', 'one place phoenix would defin go back', 'block amaz', 'close hous low key non fanci afford price good food', 'hot sour egg flower soup absolut star', 'sashimi poor qualiti soggi tasteless', 'great time famili dinner sunday night', 'food not tasti not say real tradit hunan style', 'bother slow servic', 'flair bartend absolut amaz', 'frozen margarita way sugari tast', 'good order twice', 'nutshel restaraunt smell like combin dirti fish market sewer', 'girlfriend veal bad', 'unfortun not good', 'pretti satifi experi', 'join club get awesom offer via email', 'perfect someon like beer ice cold case even colder', 'flavorless good way describ bare tepid meat', 'chain no fan beat easili', 'nacho must', 'not come back', 'mani word say everyth pretti well', 'staff super nice quick even crazi crowd downtown juri lawyer court staff', 'great atmospher friendli fast servic', 'receiv pita huge lot meat thumb', 'food arriv meh', 'pay hot dog fri look like came kid meal wienerschnitzel not idea good meal', 'classic main lobster roll fantast', 'brother law work mall ate day guess sick night', 'good go review twice herea tribut tribut event held last night', 'chip salsa realli good salsa fresh', 'great', 'mediocr food', 'get insid impress', 'super pissd', 'servic super friendli', 'sad littl veget overcook', 'nice surpris', 'golden crispi delici', 'high hope sinc burger cook charcoal grill unfortun tast fell flat way flat', 'could eat bruschetta day devin', 'not singl employe came see ok even need water refil final serv us food', 'lastli mozzarella stick best thing order', 'first time ever came amaz experi tell peopl awesom duck', 'server neglig need made us unwelcom would not suggest', 'servic terribl though', 'overpr not consist boba realli overpr', 'pack', 'love', 'say dessert yummi', 'food terribl', 'season fruit fresh white peach pure', 'kept get wors wors offici done', 'honestli blown', 'definit would not eat', 'not wast money', 'love put food nice plastic contain oppos cram littl paper takeout box', 'cr pe delic thin moist', 'aw servic', 'won ever go', 'food qualiti horribl', 'price think would much rather gone', 'servic fair best', 'love sushi found kabuki price hip servic', 'favor stay away dish', 'poor servic', 'no one tabl thought food averag worth wait', 'best servic food ever maria server good friendli made day', 'excel', 'paid bill not tip felt server terribl job', 'lunch great experi', 'never food surpris consid articl read focus much spice flavor', 'food way overpr portion fuck small', 'recent tri caballero back everi week sinc', 'buck head realli expect better food', 'food came good pace', 'ate twice last visit especi enjoy salmon salad', 'won back', 'could not believ dirti oyster', 'deserv no star', 'would not recommend', 'fact go round star awesom', 'disbelief dish qualifi worst version food ever tast', 'bad day not low toler rude custom servic peopl job nice polit wash dish otherwis', 'potato great biscuit', 'probabl would not go', 'flavor perfect amount heat', 'price reason servic great', 'wife hate meal coconut shrimp friend realli not enjoy meal either', 'fella got huevo ranchero didn look appeal', 'went happi hour great list wine', 'may say pricey think get pay get quit lot', 'probabl won come back', 'worst food servic', 'pretti good nice littl vibe restaur', 'talk great custom servic cours back', 'hot dish not hot cold dish close room temp watch staff prepar food bare hand no glove everyth deep fri oil', 'love fri bean', 'alway pleasur deal', 'plethora salad sandwich everyth tri get seal approv', 'awesom want someth light healthi summer', 'sushi strip go', 'servic great even manag came help tabl', 'dine room colleg cook cours high class dine servic slow best', 'start review two star edit give one', 'worst sushi ever eat besid costco', 'excel restaur highlight great servic uniqu menu beauti set', 'boyfriend sat bar complet delight experi', 'weird vibe owner', 'hardli meat', 'better bagel groceri store', 'go gyro', 'love owner chef one authent japanes cool dude', 'burger good pizza use amaz doughi flavorless', 'found six inch long piec wire salsa', 'servic terribl food mediocr', 'defin enjoy', 'order albondiga soup warm tast like tomato soup frozen meatbal', 'three differ occas ask well done medium well three time got bloodiest piec meat plate', 'two bite refus eat anymor', 'servic extrem slow', 'minut wait got tabl', 'serious killer hot chai latt', 'no allergi warn menu waitress absolut no clue meal not contain peanut', 'boyfriend tri mediterranean chicken salad fell love', 'rotat beer tap also highlight', 'price bit concern mellow mushroom', 'worst thai ever', 'stay vega must get breakfast least', 'want first say server great perfect servic', 'pizza select good', 'strawberri tea good', 'highli unprofession rude loyal patron', 'overal great experi', 'spend money elsewher', 'regular toast bread equal satisfi occasion pat butter mmmm', 'bellagio far anticip', 'drink weak peopl', 'not correct', 'also like chip bought not made hous', 'disappoint dinner went elsewher dessert', 'chip sal amaz', 'won return', 'new fav vega spot', 'serious cannot believ owner mani unexperienc employe run around like chicken head cut', 'sad', 'felt insult disrespect could talk judg anoth human like', 'call steakhous properli cook steak understand', 'not impress concept food', 'thing wasn crazi guacamol like pur ed', 'realli noth postino hope experi better', 'got food poison', 'brought fresh batch fri think yay someth warm no', 'hilari yummi christma eve dinner rememb biggest fail entir trip us', 'needless say won go back anytim soon', 'disgust', 'everi time eat see care teamwork profession degre', 'ri style calamari joke', 'howev much garlic fondu bare edibl', 'could bare stomach meal didn complain busi lunch', 'bad lost heart finish', 'also took forev bring us check ask', 'one make scene restaur get definit lost love one', 'disappoint experi', 'food par denni say not good', 'want wait mediocr food downright terribl servic', 'waaaaaayyyyyyyyyi rate say', 'won go back', 'fairli clean food simpli wasn worth', 'lack style', 'sangria half glass wine full ridicul', 'bother come', 'meat pretti dri slice brisket pull pork', 'build seem pretti neat bathroom pretti trippi eat', 'equal aw', 'probabl not hurri go back', 'slow seat even reserv', 'not good stretch imagin', 'cashew cream sauc veget undercook', 'chipolt ranch dip saus tasteless seem thin water no heat', 'bit sweet not realli spici enough lack flavor', 'disappoint', 'horribl way overpr', 'mayb vegetarian fare twice thought averag best', 'wasn busi know', 'tabl outsid also dirti lot time worker not alway friendli help menu', 'ambianc not like set douchey indoor garden tea biscuit', 'con spotti servic', 'fri not hot neither burger', 'came back cold', 'food came disappoint ensu', 'real disappoint waiter', 'husband said rude not even apolog bad food anyth', 'reason eat would fill night bing drink get carb stomach', 'insult profound deuchebaggeri go outsid smoke break serv solidifi', 'someon order two taco think may part custom servic ask combo ala cart', 'quit disappoint although blame need place door', 'rave review wait eat disappoint', 'del taco pretti nasti avoid possibl', 'not hard make decent hamburg', 'like', 'hell no go back', 'gotten much better servic pizza next door servic receiv restaur', 'know big deal won back ya', 'immedi said want talk manag not want talk guy shot firebal behind bar', 'ambianc much better', 'unfortun set us disapppoint entre', 'food wasn good', 'server suck wait correct server heimer suck', 'happen next pretti put', 'bad caus know famili own realli want like', 'overpr get', 'vomit bathroom mid lunch', 'kept look time soon becom minut yet no food', 'place eat no circumst would ever return top list', 'start tuna sashimi brownish color obvious wasn fresh', 'food averag', 'sure beat nacho movi would expect littl bit come restaur', 'ha long bay bit flop', 'problem charg sandwich no bigger subway sub offer better amount veget', 'shrimp unwrap live mile brushfir liter ice cold', 'lack flavor seem undercook dri', 'realli impress close', 'would avoid stay mirag', 'refri bean came meal dri crusti food', 'spend money time els', 'ladi tabl next us found live green caterpillar salad', 'present food aw', 'tell disappoint', 'think food flavor textur lack', 'appetit instantli gone', 'overal not impress would not go back', 'whole experi underwhelm think go ninja sushi next time', 'wast enough life pour salt wound draw time took bring check']\n"
     ]
    }
   ],
   "source": [
    "print(corpus)"
   ]
  },
  {
   "cell_type": "markdown",
   "metadata": {},
   "source": [
    "## creating bag of words"
   ]
  },
  {
   "cell_type": "code",
   "execution_count": 76,
   "metadata": {},
   "outputs": [
    {
     "data": {
      "text/plain": [
       "1569"
      ]
     },
     "execution_count": 76,
     "metadata": {},
     "output_type": "execute_result"
    }
   ],
   "source": [
    "from sklearn.feature_extraction.text import CountVectorizer\n",
    "cv = CountVectorizer(max_features=1600)\n",
    "# using the max_feature parameter of countVectorizer to limit the number of columns in x\n",
    "x = cv.fit_transform(corpus).toarray()\n",
    "y = df.iloc[:,-1].values\n",
    "len(x[0])"
   ]
  },
  {
   "cell_type": "markdown",
   "metadata": {},
   "source": [
    "## splitting x and y into training and test set"
   ]
  },
  {
   "cell_type": "code",
   "execution_count": 77,
   "metadata": {},
   "outputs": [],
   "source": [
    "from sklearn.model_selection import train_test_split\n",
    "x_tr,x_te,y_tr,y_te = train_test_split(x,y,test_size = 0.2, random_state = 0)"
   ]
  },
  {
   "cell_type": "markdown",
   "metadata": {},
   "source": [
    "## Applying PCA"
   ]
  },
  {
   "cell_type": "code",
   "execution_count": 78,
   "metadata": {},
   "outputs": [
    {
     "name": "stdout",
     "output_type": "stream",
     "text": [
      "[2.56332483e-02 2.20310711e-02 1.70950523e-02 1.60522870e-02\n",
      " 1.54552267e-02 1.36259288e-02 1.16364821e-02 1.04754155e-02\n",
      " 9.34025196e-03 8.70045758e-03 8.08019899e-03 7.90531585e-03\n",
      " 7.74333094e-03 7.43429231e-03 7.25722780e-03 7.04778280e-03\n",
      " 6.93147715e-03 6.67656439e-03 6.48934295e-03 6.35280891e-03\n",
      " 6.27168371e-03 6.24506175e-03 5.92870124e-03 5.88147765e-03\n",
      " 5.66814517e-03 5.64519534e-03 5.53972914e-03 5.51228464e-03\n",
      " 5.40859357e-03 5.36766173e-03 5.25448568e-03 5.17870552e-03\n",
      " 5.12682484e-03 5.04519672e-03 5.01994193e-03 4.87500327e-03\n",
      " 4.83618073e-03 4.80747044e-03 4.72132041e-03 4.66435285e-03\n",
      " 4.63730426e-03 4.56543999e-03 4.51173124e-03 4.45830962e-03\n",
      " 4.42178806e-03 4.31225866e-03 4.24569359e-03 4.19144443e-03\n",
      " 4.16143286e-03 4.14974506e-03 4.04868122e-03 3.97502929e-03\n",
      " 3.95652130e-03 3.91113695e-03 3.87617369e-03 3.79659842e-03\n",
      " 3.76865859e-03 3.72517398e-03 3.69497122e-03 3.65947175e-03\n",
      " 3.63470383e-03 3.59508009e-03 3.57805866e-03 3.52456645e-03\n",
      " 3.47884880e-03 3.42805326e-03 3.38722159e-03 3.35141225e-03\n",
      " 3.32304848e-03 3.26217758e-03 3.23183427e-03 3.22126922e-03\n",
      " 3.19035996e-03 3.18375272e-03 3.09998554e-03 3.09256808e-03\n",
      " 3.06225025e-03 3.04539705e-03 3.00548877e-03 2.96332392e-03\n",
      " 2.94929815e-03 2.92696754e-03 2.90685326e-03 2.86355776e-03\n",
      " 2.84018142e-03 2.82945131e-03 2.81159450e-03 2.77699454e-03\n",
      " 2.76968552e-03 2.73284543e-03 2.71713838e-03 2.69029336e-03\n",
      " 2.63627564e-03 2.62614104e-03 2.61156153e-03 2.58262272e-03\n",
      " 2.56912647e-03 2.53830040e-03 2.50940765e-03 2.50009316e-03\n",
      " 2.49790680e-03 2.45239437e-03 2.44006777e-03 2.41690458e-03\n",
      " 2.39242152e-03 2.38201065e-03 2.37153314e-03 2.35394445e-03\n",
      " 2.34475464e-03 2.32323347e-03 2.30683224e-03 2.29447367e-03\n",
      " 2.28316305e-03 2.26571198e-03 2.25613724e-03 2.22965979e-03\n",
      " 2.21561254e-03 2.20885589e-03 2.18786520e-03 2.18428776e-03\n",
      " 2.15503210e-03 2.14022906e-03 2.12170689e-03 2.11769573e-03\n",
      " 2.10058873e-03 2.08649949e-03 2.07310353e-03 2.06021912e-03\n",
      " 2.05758063e-03 2.03997018e-03 2.02846650e-03 2.02614270e-03\n",
      " 2.01342579e-03 1.99885682e-03 1.98629980e-03 1.97803080e-03\n",
      " 1.96101036e-03 1.95144770e-03 1.93705468e-03 1.93555495e-03\n",
      " 1.92526317e-03 1.90546138e-03 1.88520240e-03 1.87780979e-03\n",
      " 1.86945089e-03 1.86181106e-03 1.84662560e-03 1.84328759e-03\n",
      " 1.82571696e-03 1.81770881e-03 1.81297645e-03 1.79439610e-03\n",
      " 1.79275187e-03 1.77802773e-03 1.76587566e-03 1.74664840e-03\n",
      " 1.73648536e-03 1.73449472e-03 1.72990662e-03 1.71789226e-03\n",
      " 1.70086412e-03 1.69950449e-03 1.68430975e-03 1.67545047e-03\n",
      " 1.67199763e-03 1.66780148e-03 1.65082952e-03 1.64257473e-03\n",
      " 1.62024974e-03 1.61869425e-03 1.60451275e-03 1.60279594e-03\n",
      " 1.59943981e-03 1.58561211e-03 1.57489899e-03 1.56504805e-03\n",
      " 1.56143176e-03 1.55536847e-03 1.54698030e-03 1.54426330e-03\n",
      " 1.52513163e-03 1.52435356e-03 1.52106415e-03 1.51140281e-03\n",
      " 1.50000311e-03 1.49494013e-03 1.48710779e-03 1.48037288e-03\n",
      " 1.47643888e-03 1.46395040e-03 1.45691106e-03 1.44336461e-03\n",
      " 1.43980586e-03 1.43604306e-03 1.42072533e-03 1.41818331e-03\n",
      " 1.41294398e-03 1.40754559e-03 1.39830313e-03 1.39298254e-03\n",
      " 1.38998794e-03 1.37566070e-03 1.37290558e-03 1.36689008e-03\n",
      " 1.36230933e-03 1.35335999e-03 1.34317976e-03 1.33596181e-03\n",
      " 1.32602071e-03 1.32064738e-03 1.31193911e-03 1.30839636e-03\n",
      " 1.30215962e-03 1.29660569e-03 1.29072031e-03 1.28197722e-03\n",
      " 1.27490269e-03 1.26540449e-03 1.25330252e-03 1.24901341e-03\n",
      " 1.24535619e-03 1.23709117e-03 1.23374523e-03 1.23033567e-03\n",
      " 1.22056267e-03 1.21285909e-03 1.20241423e-03 1.19986093e-03\n",
      " 1.19472890e-03 1.19241995e-03 1.18690448e-03 1.18154794e-03\n",
      " 1.18073577e-03 1.17603838e-03 1.15978159e-03 1.15643165e-03\n",
      " 1.15554892e-03 1.15139380e-03 1.14670463e-03 1.13881151e-03\n",
      " 1.13072403e-03 1.12367448e-03 1.11762178e-03 1.11605835e-03\n",
      " 1.11455121e-03 1.10543304e-03 1.09654339e-03 1.09010647e-03\n",
      " 1.08760970e-03 1.08509975e-03 1.07345620e-03 1.07107744e-03\n",
      " 1.06912213e-03 1.06695927e-03 1.06116599e-03 1.05531735e-03\n",
      " 1.05099512e-03 1.04213044e-03 1.03910759e-03 1.03480381e-03\n",
      " 1.02959290e-03 1.02652644e-03 1.02323730e-03 1.01458050e-03\n",
      " 1.00631072e-03 1.00211765e-03 9.97497728e-04 9.90706022e-04\n",
      " 9.87448482e-04 9.84454340e-04 9.83488389e-04 9.76514893e-04\n",
      " 9.65855292e-04 9.60250304e-04 9.57661616e-04 9.52608947e-04\n",
      " 9.45423308e-04 9.43248116e-04 9.42511524e-04 9.37071057e-04\n",
      " 9.27756343e-04 9.24713401e-04 9.22695248e-04 9.17372120e-04\n",
      " 9.12534421e-04 9.10845811e-04 9.08316615e-04 9.02160700e-04\n",
      " 8.95743188e-04 8.91586394e-04 8.90201092e-04 8.86354465e-04\n",
      " 8.84337894e-04 8.80354677e-04 8.74762782e-04 8.71258343e-04\n",
      " 8.65801200e-04 8.60679015e-04 8.59014982e-04 8.58519235e-04\n",
      " 8.52540120e-04 8.44953669e-04 8.44547500e-04 8.39557642e-04\n",
      " 8.36780063e-04 8.30945564e-04 8.25976594e-04 8.23625055e-04\n",
      " 8.19026109e-04 8.16806932e-04 8.13540094e-04 8.07656261e-04\n",
      " 8.05715343e-04 8.05346409e-04 8.02325830e-04 7.94376663e-04\n",
      " 7.93660958e-04 7.87924462e-04 7.85317216e-04 7.83800677e-04\n",
      " 7.77118901e-04 7.72834900e-04 7.71715932e-04 7.64006068e-04\n",
      " 7.59072035e-04 7.56932309e-04 7.54105020e-04 7.53086335e-04\n",
      " 7.50493075e-04 7.46183959e-04 7.43861524e-04 7.41708488e-04\n",
      " 7.36836769e-04 7.32097408e-04 7.28631018e-04 7.26134953e-04\n",
      " 7.20597541e-04 7.18538769e-04 7.16513589e-04 7.11430557e-04\n",
      " 7.07717041e-04 7.04206812e-04 7.03033702e-04 7.01513514e-04\n",
      " 6.99007940e-04 6.95339278e-04 6.91023173e-04 6.87724951e-04\n",
      " 6.83708444e-04 6.80204379e-04 6.77040725e-04 6.74154101e-04\n",
      " 6.70116162e-04 6.68763908e-04 6.65584350e-04 6.63033383e-04\n",
      " 6.60921151e-04 6.58907115e-04 6.56293772e-04 6.49746595e-04\n",
      " 6.47117214e-04 6.45689799e-04 6.42132173e-04 6.38781432e-04\n",
      " 6.37184675e-04 6.34173811e-04 6.32117643e-04 6.28197994e-04\n",
      " 6.25986840e-04 6.23894949e-04 6.19122914e-04 6.16551486e-04\n",
      " 6.13422858e-04 6.10810899e-04 6.08761251e-04 6.07748168e-04\n",
      " 6.04232911e-04 6.03492144e-04 6.00410703e-04 5.97951531e-04\n",
      " 5.95735284e-04 5.92327863e-04 5.90588209e-04 5.86966333e-04\n",
      " 5.85245667e-04 5.82899395e-04 5.80337996e-04 5.77128161e-04\n",
      " 5.74817412e-04 5.70151402e-04 5.67250858e-04 5.66122502e-04\n",
      " 5.64593666e-04 5.63390666e-04 5.60213872e-04 5.58703935e-04\n",
      " 5.55296512e-04 5.53361446e-04 5.51496122e-04 5.49319187e-04\n",
      " 5.45035756e-04 5.42595281e-04 5.39720506e-04 5.38942673e-04\n",
      " 5.35675901e-04 5.34617079e-04 5.32613004e-04 5.32346748e-04\n",
      " 5.26757323e-04 5.24259075e-04 5.19620686e-04 5.18919939e-04\n",
      " 5.15542302e-04 5.12209306e-04 5.11454247e-04 5.09182092e-04\n",
      " 5.07359513e-04 5.04400027e-04 5.03479559e-04 5.02762630e-04\n",
      " 4.98697433e-04 4.96993959e-04 4.96139894e-04 4.94144100e-04\n",
      " 4.92268015e-04 4.89908594e-04 4.85698821e-04 4.84496337e-04\n",
      " 4.82768282e-04 4.81967842e-04 4.80152417e-04 4.76574078e-04\n",
      " 4.74631025e-04 4.71411282e-04 4.71140323e-04 4.68013226e-04\n",
      " 4.67127642e-04 4.63591953e-04 4.60794274e-04 4.60529663e-04\n",
      " 4.56432212e-04 4.52721779e-04 4.49653468e-04 4.48359778e-04\n",
      " 4.46926727e-04 4.46402392e-04 4.43671872e-04 4.43296487e-04\n",
      " 4.39153003e-04 4.38859219e-04 4.35124748e-04 4.33422837e-04\n",
      " 4.32011197e-04 4.29728058e-04 4.27619337e-04 4.26862721e-04\n",
      " 4.25361815e-04 4.22719112e-04 4.21913168e-04 4.20699561e-04\n",
      " 4.18287244e-04 4.16516114e-04 4.15169620e-04 4.13087232e-04\n",
      " 4.10671203e-04 4.09223141e-04 4.07965671e-04 4.05699197e-04\n",
      " 4.04007974e-04 4.01372561e-04 4.00130628e-04 3.98638942e-04\n",
      " 3.95427942e-04 3.94869509e-04 3.91990381e-04 3.89577523e-04\n",
      " 3.88134798e-04 3.87888346e-04 3.84705293e-04 3.84025269e-04\n",
      " 3.81782586e-04 3.81032274e-04 3.80319537e-04 3.79798694e-04\n",
      " 3.77233696e-04 3.74799984e-04 3.72967006e-04 3.72295913e-04\n",
      " 3.70785232e-04 3.67998822e-04 3.65884276e-04 3.63831052e-04\n",
      " 3.63287874e-04 3.60667652e-04 3.59056634e-04 3.58195214e-04\n",
      " 3.57445126e-04 3.56777967e-04 3.55868474e-04 3.55073854e-04\n",
      " 3.55073854e-04 3.55073854e-04 3.55073854e-04 3.54636460e-04\n",
      " 3.53334918e-04 3.52903147e-04 3.51936775e-04 3.49610956e-04\n",
      " 3.49290428e-04 3.47934468e-04 3.46559553e-04 3.45608426e-04\n",
      " 3.45298986e-04 3.44275438e-04 3.43457685e-04 3.42017527e-04\n",
      " 3.41404275e-04 3.40000905e-04 3.39041311e-04 3.36862689e-04\n",
      " 3.35909688e-04 3.33373399e-04 3.31050122e-04 3.30076179e-04\n",
      " 3.29087853e-04 3.27861997e-04 3.27209070e-04 3.25441161e-04\n",
      " 3.24429794e-04 3.23647765e-04 3.22192260e-04 3.21095019e-04\n",
      " 3.18467243e-04 3.17364629e-04 3.16814771e-04 3.15560599e-04\n",
      " 3.13335910e-04 3.12652092e-04 3.11578449e-04 3.10540084e-04\n",
      " 3.09684233e-04 3.08935271e-04 3.06766876e-04 3.06361680e-04\n",
      " 3.04493983e-04 3.02769087e-04 3.01983583e-04 2.99802423e-04\n",
      " 2.99487500e-04 2.97835405e-04 2.97090936e-04 2.95823733e-04\n",
      " 2.94805727e-04 2.93064211e-04 2.92510201e-04 2.91810406e-04\n",
      " 2.89747369e-04 2.88458990e-04 2.86303621e-04 2.85232006e-04\n",
      " 2.84471445e-04 2.81889088e-04 2.80700890e-04 2.79108521e-04\n",
      " 2.78675485e-04 2.77705956e-04 2.76836279e-04 2.75469632e-04\n",
      " 2.73903839e-04 2.73014162e-04 2.71867142e-04 2.69470961e-04\n",
      " 2.69218588e-04 2.67871095e-04 2.67622196e-04 2.65888496e-04\n",
      " 2.65312873e-04 2.64261805e-04 2.61989315e-04 2.61190114e-04\n",
      " 2.58826881e-04 2.58094838e-04 2.57050596e-04 2.56003045e-04\n",
      " 2.54949093e-04 2.53188174e-04 2.52245114e-04 2.50659085e-04\n",
      " 2.49502934e-04 2.47133268e-04 2.45507344e-04 2.43557069e-04\n",
      " 2.43041319e-04 2.41677889e-04 2.41086143e-04 2.40108139e-04\n",
      " 2.39364472e-04 2.38913856e-04 2.36997083e-04 2.36034871e-04\n",
      " 2.35398812e-04 2.32267452e-04 2.31072311e-04 2.30018013e-04\n",
      " 2.29087733e-04 2.27318828e-04 2.26768018e-04 2.26031557e-04\n",
      " 2.24330713e-04 2.23512556e-04 2.22111308e-04 2.21812587e-04\n",
      " 2.19939066e-04 2.19582690e-04 2.18392580e-04 2.17394134e-04\n",
      " 2.15948822e-04 2.13886931e-04 2.13615029e-04 2.11798308e-04\n",
      " 2.10377019e-04 2.09900135e-04 2.08622762e-04 2.08328323e-04\n",
      " 2.06578209e-04 2.05007404e-04 2.04378920e-04 2.03208812e-04\n",
      " 2.01656597e-04 2.01007415e-04 1.99280281e-04 1.98621142e-04\n",
      " 1.97954202e-04 1.97794231e-04 1.96382369e-04 1.95988899e-04\n",
      " 1.94293886e-04 1.94082504e-04 1.92628978e-04 1.91622354e-04\n",
      " 1.91183128e-04 1.90630798e-04 1.89937859e-04 1.89399590e-04\n",
      " 1.87820483e-04 1.86253087e-04 1.85659087e-04 1.84964797e-04\n",
      " 1.83801967e-04 1.83388154e-04 1.82405304e-04 1.82029229e-04\n",
      " 1.80984080e-04 1.79862305e-04 1.79199506e-04 1.78493524e-04\n",
      " 1.78283835e-04 1.77794839e-04 1.77536927e-04 1.77536927e-04\n",
      " 1.77536927e-04 1.77262316e-04 1.76769091e-04 1.76495587e-04\n",
      " 1.75153985e-04 1.74911442e-04 1.74296714e-04 1.73391482e-04\n",
      " 1.72928373e-04 1.72540918e-04 1.71373165e-04 1.69716752e-04\n",
      " 1.69330624e-04 1.68769371e-04 1.68407655e-04 1.67168189e-04\n",
      " 1.66863149e-04 1.65814319e-04 1.65000063e-04 1.63597387e-04\n",
      " 1.63204902e-04 1.62429372e-04 1.60670296e-04 1.59816997e-04\n",
      " 1.59117910e-04 1.58653637e-04 1.58229674e-04 1.56699092e-04\n",
      " 1.55519771e-04 1.54396069e-04 1.53956156e-04 1.53212057e-04\n",
      " 1.52336082e-04 1.51707525e-04 1.50304290e-04 1.49651112e-04\n",
      " 1.49244384e-04 1.48002211e-04 1.46967181e-04 1.46343234e-04\n",
      " 1.46059401e-04 1.45209769e-04 1.44463782e-04 1.43776799e-04\n",
      " 1.42296702e-04 1.40530366e-04 1.39308036e-04 1.38973725e-04\n",
      " 1.38358168e-04 1.38035402e-04 1.36325812e-04 1.35721405e-04\n",
      " 1.34814361e-04 1.33923171e-04 1.32679341e-04 1.32104336e-04\n",
      " 1.31165624e-04 1.29669178e-04 1.28598674e-04 1.27766719e-04\n",
      " 1.26497806e-04 1.26287497e-04 1.25434101e-04 1.24279716e-04\n",
      " 1.22816221e-04 1.21847498e-04 1.20636436e-04 1.20370478e-04\n",
      " 1.19197108e-04 1.18414633e-04 1.17945851e-04 1.16654678e-04\n",
      " 1.16397028e-04 1.15227416e-04 1.14622522e-04 1.13447582e-04\n",
      " 1.12432043e-04 1.11264777e-04 1.10055424e-04 1.09889128e-04\n",
      " 1.08636331e-04 1.08298566e-04 1.07008501e-04 1.05981626e-04\n",
      " 1.05490395e-04 1.04765680e-04 1.03409657e-04 1.02844062e-04\n",
      " 1.02008031e-04 1.01351843e-04 1.00587342e-04 1.00378734e-04\n",
      " 9.93555961e-05 9.88539313e-05 9.76913020e-05 9.61846622e-05\n",
      " 9.58237692e-05 9.45400066e-05 9.42731819e-05 9.31944724e-05\n",
      " 9.23413576e-05 9.15551937e-05 9.09039027e-05 9.05675510e-05\n",
      " 8.98939639e-05 8.89309138e-05 8.82054013e-05 8.75910416e-05\n",
      " 8.61545219e-05 8.59157451e-05 8.42069340e-05 8.32053705e-05\n",
      " 8.31466527e-05 8.19406997e-05 8.16236296e-05 8.09304050e-05\n",
      " 8.02288644e-05 7.91203612e-05 7.85171819e-05 7.75893206e-05\n",
      " 7.66038121e-05 7.55667860e-05 7.51928349e-05 7.39609154e-05\n",
      " 7.35951363e-05 7.29202394e-05 7.19321741e-05 7.10261997e-05\n",
      " 7.07035285e-05 6.91525057e-05 6.87953519e-05 6.75855154e-05\n",
      " 6.70771015e-05 6.63816077e-05 6.55400138e-05 6.51838467e-05\n",
      " 6.46610985e-05 6.44497093e-05 6.31668852e-05 6.24705489e-05\n",
      " 6.16668075e-05 6.14286246e-05 5.97921689e-05 5.95512862e-05\n",
      " 5.81795403e-05 5.72088874e-05 5.67417168e-05 5.63484840e-05\n",
      " 5.53194063e-05 5.48561973e-05 5.40063961e-05 5.35603721e-05\n",
      " 5.28443894e-05 5.19212362e-05 5.17323432e-05 5.08538000e-05\n",
      " 4.99952399e-05 4.98349102e-05 4.86238268e-05 4.81710975e-05\n",
      " 4.74410772e-05 4.69424640e-05 4.68160672e-05 4.53839944e-05\n",
      " 4.47256643e-05 4.43336898e-05 4.34464807e-05 4.24945016e-05\n",
      " 4.17737181e-05 4.13467414e-05 4.11491394e-05 4.01656189e-05\n",
      " 3.97988878e-05 3.86694640e-05 3.80433981e-05 3.75829971e-05\n",
      " 3.68470145e-05 3.66320310e-05 3.61442336e-05 3.48379632e-05\n",
      " 3.47407139e-05 3.43961074e-05 3.34245548e-05 3.32913949e-05\n",
      " 3.24190972e-05 3.12468492e-05 3.08378644e-05 3.03175821e-05\n",
      " 2.98847248e-05 2.93979466e-05 2.88028134e-05 2.82308482e-05\n",
      " 2.73916928e-05 2.68273593e-05 2.63678321e-05 2.60502840e-05\n",
      " 2.55247491e-05 2.46649475e-05 2.42837054e-05 2.36029052e-05\n",
      " 2.30534953e-05 2.25481856e-05 2.20159747e-05 2.13564251e-05\n",
      " 2.05959583e-05 2.03212044e-05 1.99341801e-05 1.95363129e-05\n",
      " 1.92512213e-05 1.91039426e-05 1.85413770e-05 1.74991685e-05\n",
      " 1.74289431e-05 1.68257609e-05 1.64444722e-05 1.57585921e-05\n",
      " 1.55531512e-05 1.49059286e-05 1.43519962e-05 1.38492471e-05\n",
      " 1.37021614e-05 1.32284553e-05 1.31540586e-05 1.26342829e-05\n",
      " 1.20651157e-05 1.18088584e-05 1.16877087e-05 1.15303532e-05\n",
      " 1.13382048e-05 1.02385431e-05 1.00717130e-05 9.47108874e-06\n",
      " 9.14427394e-06 8.78391681e-06 8.14200453e-06 7.80478941e-06\n",
      " 7.53012344e-06 7.49123711e-06 7.01313403e-06 6.70080050e-06\n",
      " 6.50849370e-06 6.20090059e-06 6.07419738e-06 5.36140967e-06\n",
      " 5.18836678e-06 4.87683594e-06 4.69992089e-06 4.20087699e-06\n",
      " 4.02789273e-06 3.87642154e-06 3.75875991e-06 3.48926420e-06\n",
      " 3.27622997e-06 3.15111945e-06 2.93368443e-06 2.86526052e-06\n",
      " 2.60317872e-06 2.46667249e-06 2.23721577e-06 2.02041430e-06\n",
      " 1.85802797e-06 1.68933603e-06 1.60687916e-06 1.39470656e-06\n",
      " 1.25055402e-06 1.03612231e-06 9.77231824e-07 9.18037165e-07\n",
      " 8.26882378e-07 5.33896630e-07 3.53009127e-07 1.11117708e-07\n",
      " 5.05526687e-33 1.46554556e-33 1.08512937e-33 1.04603919e-33\n",
      " 9.73837153e-34 8.54544817e-34 7.66115337e-34 7.61599432e-34\n",
      " 5.88199793e-34 5.70327608e-34 5.58079998e-34 4.13040355e-34\n",
      " 4.01400268e-34 3.97649202e-34 3.55586952e-34 3.51689639e-34\n",
      " 3.49940286e-34 3.49726106e-34 3.31163014e-34 3.22274206e-34\n",
      " 3.21445402e-34 3.19504176e-34 3.17316388e-34 3.11554322e-34\n",
      " 2.99165774e-34 2.98286298e-34 2.96840823e-34 2.93997885e-34\n",
      " 2.92385888e-34 2.89083177e-34 2.88322495e-34 2.86613036e-34\n",
      " 2.85517504e-34 2.82893357e-34 2.78260489e-34 2.75338196e-34\n",
      " 2.73303993e-34 2.72046834e-34 2.65995607e-34 2.62063031e-34\n",
      " 2.61107164e-34 2.58220827e-34 2.56772188e-34 2.53642838e-34\n",
      " 2.51877136e-34 2.50350639e-34 2.49476419e-34 2.47623942e-34\n",
      " 2.47560822e-34 2.47298997e-34 2.42942818e-34 2.40793032e-34\n",
      " 2.39498522e-34 2.36419549e-34 2.28628469e-34 2.28060958e-34\n",
      " 2.23620429e-34 2.18535292e-34 2.17447968e-34 2.14979024e-34\n",
      " 2.08019753e-34 1.94338278e-34 1.92746394e-34 1.88050974e-34\n",
      " 1.76389505e-34 1.57655846e-34 9.90037601e-35 8.96975837e-35]\n"
     ]
    }
   ],
   "source": [
    "from sklearn.decomposition import PCA\n",
    "pca=PCA(n_components=1000)\n",
    "x=pca.fit_transform(x)\n",
    "var=pca.explained_variance_ratio_\n",
    "print(var)"
   ]
  },
  {
   "cell_type": "markdown",
   "metadata": {},
   "source": [
    "## creating and training the svm model"
   ]
  },
  {
   "cell_type": "code",
   "execution_count": 79,
   "metadata": {},
   "outputs": [
    {
     "data": {
      "text/plain": [
       "SVC(kernel='linear', random_state=0)"
      ]
     },
     "execution_count": 79,
     "metadata": {},
     "output_type": "execute_result"
    }
   ],
   "source": [
    "from sklearn.svm import SVC\n",
    "classifier = SVC(kernel='linear', random_state=0)\n",
    "classifier.fit(x_tr,y_tr)"
   ]
  },
  {
   "cell_type": "code",
   "execution_count": 80,
   "metadata": {},
   "outputs": [],
   "source": [
    "# predicting the output\n",
    "y_pr = classifier.predict(x_te)"
   ]
  },
  {
   "cell_type": "code",
   "execution_count": 81,
   "metadata": {
    "scrolled": true
   },
   "outputs": [
    {
     "name": "stdout",
     "output_type": "stream",
     "text": [
      "0.875\n"
     ]
    },
    {
     "data": {
      "image/png": "[encoded data removed]",
      "text/plain": [
       "<Figure size 432x288 with 2 Axes>"
      ]
     },
     "metadata": {
      "needs_background": "light"
     },
     "output_type": "display_data"
    }
   ],
   "source": [
    "# plotting the confusion matrix and accuracy score\n",
    "from sklearn.metrics import plot_confusion_matrix, accuracy_score\n",
    "plot_confusion_matrix(estimator=classifier,X=x_te, y_true=y_te)\n",
    "acc = accuracy_score(y_te,y_pr)\n",
    "print(acc)"
   ]
  },
  {
   "cell_type": "code",
   "execution_count": null,
   "metadata": {},
   "outputs": [],
   "source": []
  },
  {
   "cell_type": "code",
   "execution_count": null,
   "metadata": {},
   "outputs": [],
   "source": []
  }
 ],
 "metadata": {
  "kernelspec": {
   "display_name": "Python 3",
   "language": "python",
   "name": "python3"
  },
  "language_info": {
   "codemirror_mode": {
    "name": "ipython",
    "version": 3
   },
   "file_extension": ".py",
   "mimetype": "text/x-python",
   "name": "python",
   "nbconvert_exporter": "python",
   "pygments_lexer": "ipython3",
   "version": "3.7.7"
  },
  "varInspector": {
   "cols": {
    "lenName": 16,
    "lenType": 16,
    "lenVar": 40
   },
   "kernels_config": {
    "python": {
     "delete_cmd_postfix": "",
     "delete_cmd_prefix": "del ",
     "library": "var_list.py",
     "varRefreshCmd": "print(var_dic_list())"
    },
    "r": {
     "delete_cmd_postfix": ") ",
     "delete_cmd_prefix": "rm(",
     "library": "var_list.r",
     "varRefreshCmd": "cat(var_dic_list()) "
    }
   },
   "types_to_exclude": [
    "module",
    "function",
    "builtin_function_or_method",
    "instance",
    "_Feature"
   ],
   "window_display": false
  }
 },
 "nbformat": 4,
 "nbformat_minor": 4
}
