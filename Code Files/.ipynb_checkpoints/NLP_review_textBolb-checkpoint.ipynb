{
 "cells": [
  {
   "cell_type": "code",
   "execution_count": 1,
   "metadata": {},
   "outputs": [
    {
     "ename": "ModuleNotFoundError",
     "evalue": "No module named 'textblob'",
     "output_type": "error",
     "traceback": [
      "\u001b[0;31m---------------------------------------------------------------------------\u001b[0m",
      "\u001b[0;31mModuleNotFoundError\u001b[0m                       Traceback (most recent call last)",
      "\u001b[0;32m<ipython-input-1-3f3bd66640e8>\u001b[0m in \u001b[0;36m<module>\u001b[0;34m\u001b[0m\n\u001b[0;32m----> 1\u001b[0;31m \u001b[0;32mfrom\u001b[0m \u001b[0mtextblob\u001b[0m \u001b[0;32mimport\u001b[0m \u001b[0mTextBlob\u001b[0m\u001b[0;34m\u001b[0m\u001b[0;34m\u001b[0m\u001b[0m\n\u001b[0m\u001b[1;32m      2\u001b[0m \u001b[0;32mimport\u001b[0m \u001b[0mnltk\u001b[0m\u001b[0;34m\u001b[0m\u001b[0;34m\u001b[0m\u001b[0m\n\u001b[1;32m      3\u001b[0m \u001b[0;32mimport\u001b[0m \u001b[0mpandas\u001b[0m \u001b[0;32mas\u001b[0m \u001b[0mpd\u001b[0m\u001b[0;34m\u001b[0m\u001b[0;34m\u001b[0m\u001b[0m\n\u001b[1;32m      4\u001b[0m \u001b[0mdf\u001b[0m \u001b[0;34m=\u001b[0m \u001b[0mpd\u001b[0m\u001b[0;34m.\u001b[0m\u001b[0mread_csv\u001b[0m\u001b[0;34m(\u001b[0m\u001b[0;34m'Nlp.tsv'\u001b[0m\u001b[0;34m,\u001b[0m \u001b[0mdelimiter\u001b[0m\u001b[0;34m=\u001b[0m\u001b[0;34m'\\t'\u001b[0m\u001b[0;34m,\u001b[0m \u001b[0mquoting\u001b[0m\u001b[0;34m=\u001b[0m\u001b[0;36m3\u001b[0m\u001b[0;34m)\u001b[0m\u001b[0;34m\u001b[0m\u001b[0;34m\u001b[0m\u001b[0m\n\u001b[1;32m      5\u001b[0m \u001b[0mprint\u001b[0m\u001b[0;34m(\u001b[0m\u001b[0mdf\u001b[0m\u001b[0;34m)\u001b[0m\u001b[0;34m\u001b[0m\u001b[0;34m\u001b[0m\u001b[0m\n",
      "\u001b[0;31mModuleNotFoundError\u001b[0m: No module named 'textblob'"
     ]
    }
   ],
   "source": [
    "from textblob import TextBlob\n",
    "import nltk\n",
    "import pandas as pd\n",
    "df = pd.read_csv('Nlp.tsv', delimiter='\\t', quoting=3)\n",
    "print(df)"
   ]
  },
  {
   "cell_type": "code",
   "execution_count": null,
   "metadata": {},
   "outputs": [],
   "source": [
    "pos=[]\n",
    "neg=[]\n",
    "for i in range(0,1000):\n",
    "    if df['Liked'][i]==0:\n",
    "        neg.append(df['Review'][i])\n",
    "    else:\n",
    "        pos.append(df[\"Review\"][i])\n"
   ]
  },
  {
   "cell_type": "code",
   "execution_count": null,
   "metadata": {},
   "outputs": [],
   "source": [
    "from sklearn.model_selection import train_test_split\n",
    "px_tr,px_te=train_test_split(pos,test_size=0.2)\n",
    "nx_tr,nx_te=train_test_split(neg,test_size=0.2)"
   ]
  },
  {
   "cell_type": "code",
   "execution_count": null,
   "metadata": {},
   "outputs": [],
   "source": [
    "pos_correct=0\n",
    "pos_count=0\n",
    "for i in px_tr:\n",
    "  analysis=TextBlob(i)\n",
    "  if analysis.sentiment.polarity >-0.1:\n",
    "        pos_correct += 1\n",
    "  pos_count +=1\n",
    "neg_correct=0\n",
    "neg_count=0\n",
    "for i in nx_tr:\n",
    "  analysis=TextBlob(i)\n",
    "  if analysis.sentiment.polarity <=0.6:\n",
    "      neg_correct += 1\n",
    "  neg_count +=1\n",
    "pos_acc=pos_correct/pos_count*100.0\n",
    "neg_acc=neg_correct/neg_count*100.0\n",
    "print(\"Train Positive accuracy = {}% via {} samples\".format(pos_correct/pos_count*100.0, pos_count))\n",
    "print(\"Train Negative accuracy = {}% via {} samples\".format(neg_correct/neg_count*100.0, neg_count))\n",
    "print(\"Train Total Accuracy= \",(((pos_correct/pos_count*100.0)+(neg_correct/neg_count*100.0))/2))\n",
    "pos_correct=0\n",
    "pos_count=0\n",
    "for i in px_te:\n",
    "  analysis=TextBlob(i)\n",
    "  if analysis.sentiment.polarity >-0.1:\n",
    "        pos_correct += 1\n",
    "  pos_count +=1\n",
    "neg_correct=0\n",
    "neg_count=0\n",
    "for i in nx_te:\n",
    "  analysis=TextBlob(i)\n",
    "  if analysis.sentiment.polarity <=0.6:\n",
    "      neg_correct += 1\n",
    "  neg_count +=1\n",
    "pos_acc=pos_correct/pos_count*100.0\n",
    "neg_acc=neg_correct/neg_count*100.0\n",
    "print(\"Test Positive accuracy = {}% via {} samples\".format(pos_correct/pos_count*100.0, pos_count))\n",
    "print(\"Test Negative accuracy = {}% via {} samples\".format(neg_correct/neg_count*100.0, neg_count))\n",
    "print(\"Test Total Accuracy= \",(((pos_correct/pos_count*100.0)+(neg_correct/neg_count*100.0))/2))"
   ]
  },
  {
   "cell_type": "code",
   "execution_count": null,
   "metadata": {},
   "outputs": [],
   "source": [
    "analysis=TextBlob(\"this place is not good\")\n",
    "if analysis.sentiment.polarity > -0.1:\n",
    "  print(\"positive\")\n",
    "elif analysis.sentiment.polarity <=0.6:\n",
    "  print(\"negative\")"
   ]
  },
  {
   "cell_type": "code",
   "execution_count": null,
   "metadata": {},
   "outputs": [],
   "source": []
  }
 ],
 "metadata": {
  "kernelspec": {
   "display_name": "Python 3",
   "language": "python",
   "name": "python3"
  },
  "language_info": {
   "codemirror_mode": {
    "name": "ipython",
    "version": 3
   },
   "file_extension": ".py",
   "mimetype": "text/x-python",
   "name": "python",
   "nbconvert_exporter": "python",
   "pygments_lexer": "ipython3",
   "version": "3.8.5"
  }
 },
 "nbformat": 4,
 "nbformat_minor": 4
}
